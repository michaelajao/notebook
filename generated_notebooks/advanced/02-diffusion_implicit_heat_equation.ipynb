{
  "cells": [
    {
      "cell_type": "markdown",
      "metadata": {},
      "source": [
        "In this tutorial, we'll be solving the heat equation:\n",
        "\n",
        "\n",
        "$$∂_t T = α ∇²(T) + β \\sin(γ z)$$\n",
        "\n",
        "\n",
        "with boundary conditions: $$∇T(z=a) = ∇T_{bottom}, T(z=b) = T_{top}$$. We'll solve these equations numerically using Finite Difference Method on cell faces. The same exercise could easily be done on cell centers.\n",
        "\n",
        "## Code loading and parameters\n",
        "\n",
        "First, we'll use / import some packages:"
      ]
    },
    {
      "cell_type": "code",
      "execution_count": null,
      "metadata": {},
      "outputs": [],
      "source": [
        "import Plots\n",
        "using LinearAlgebra\n",
        "using DiffEqBase\n",
        "using OrdinaryDiffEq: SplitODEProblem, solve, IMEXEuler\n",
        "import SciMLBase"
      ]
    },
    {
      "cell_type": "markdown",
      "metadata": {},
      "source": [
        "Next, we'll define some global problem parameters:"
      ]
    },
    {
      "cell_type": "code",
      "execution_count": null,
      "metadata": {},
      "outputs": [],
      "source": [
        "a,b, n = 0, 1, 10               # zmin, zmax, number of cells\n",
        "n̂_min, n̂_max = -1, 1            # Outward facing unit vectors\n",
        "α = 100;                        # thermal diffusivity, larger means more stiff\n",
        "β, γ = 10000, π;                # source term coefficients\n",
        "Δt = 1000;                      # timestep size\n",
        "N_t = 10;                       # number of timesteps to take\n",
        "FT = Float64;                   # float type\n",
        "Δz = FT(b-a)/FT(n)\n",
        "Δz² = Δz^2;\n",
        "∇²_op = [1/Δz², -2/Δz², 1/Δz²]; # interior Laplacian operator\n",
        "∇T_bottom = 10;                 # Temperature gradient at the top\n",
        "T_top = 1;                      # Temperature at the bottom\n",
        "S(z) = β*sin(γ*z)               # source term, (sin for easy integration)\n",
        "zf = range(a, b, length=n+1);   # coordinates on cell faces"
      ]
    },
    {
      "cell_type": "markdown",
      "metadata": {},
      "source": [
        "## Derivation of analytic solution\n",
        "Here, we'll derive the analytic solution:\n",
        "\n",
        "```math\n",
        "\\frac{∂²T}{∂²z} = -\\frac{S(z)}{α} = -\\frac{β \\sin(γ z)}{α} \\\\\n",
        "\\frac{∂T}{∂z} = \\frac{β \\cos(γ z)}{γ α}+c_1 \\\\\n",
        "T(z) = \\frac{β \\sin(γ z)}{γ^2 α}+c_1 z+c_2, \\qquad \\text{(generic solution)}\n",
        "```\n",
        "Apply bottom boundary condition:\n",
        "```math\n",
        "\\frac{∂T}{∂z}(a) = \\frac{β \\cos(γ a)}{γ α}+c_1 = ∇T_{bottom} \\\\\n",
        "c_1 = ∇T_{bottom}-\\frac{β \\cos(γ a)}{γ α}\n",
        "```\n",
        "\n",
        "Apply top boundary condition:\n",
        "```math\n",
        "T(b) = \\frac{β \\sin(γ b)}{γ^2 α}+c_1 b+c_2 = T_{top} \\\\\n",
        "c_2 = T_{top}-\\left(\\frac{β \\sin(γ b)}{γ^2 α}+c_1 b\\right)\n",
        "```\n",
        "\n",
        "And now let's define this in a julia function:"
      ]
    },
    {
      "cell_type": "code",
      "execution_count": null,
      "metadata": {},
      "outputs": [],
      "source": [
        "function T_analytic(z) # Analytic steady state solution\n",
        "    c1 = ∇T_bottom-β*cos(γ*a)/(γ*α)\n",
        "    c2 = T_top-(β*sin(γ*b)/(γ^2*α)+c1*b)\n",
        "    return β*sin(γ*z)/(γ^2*α)+c1*z+c2\n",
        "end"
      ]
    },
    {
      "cell_type": "markdown",
      "metadata": {},
      "source": [
        "## Derive the temporal discretization\n",
        "\n",
        "Here, we'll derivation the matrix form of the temporal discretization we wish to use (diffusion-implicit and explicit Euler):\n",
        "\\begin{align}\n",
        "    ∂_t T = α ∇²T + S \\\\\n",
        "    (T^{n+1}-T^n) = Δt (α  ∇²T^{n+1} + S) \\\\\n",
        "    (T^{n+1} - Δt α ∇²T^{n+1}) = T^n + Δt S \\\\\n",
        "    (I - Δt α ∇²) T^{n+1} = T^n + Δt S\n",
        "\\end{align}\n",
        "\n",
        "\n",
        "\n",
        "Note that, since the ``∇²`` reaches to boundary points, we'll need to modify the stencils to account for boundary conditions.\n",
        "\n",
        "## Derive the finite difference stencil\n",
        "\n",
        "For the interior domain, a central and second-order finite difference stencil is simply:\n",
        "\n",
        "\n",
        "$$∇²f = \\frac{f_{i-1} -2f_i + f_{i+1}}{Δz²}, \\qquad \\text{or} \\\\$$\n",
        "$$∇² = \\left[\\frac{1}{Δz²}, \\frac{-2}{Δz²}, \\frac{1}{Δz²}\\right] \\\\$$\n",
        "\n",
        "\n",
        "At the boundaries, we need to modify the stencil to account for Dirichlet and Neumann BCs. Using the following index denotion:\n",
        "\n",
        " - `i` first interior index\n",
        " - `b` boundary index\n",
        " - `g` ghost index\n",
        "\n",
        "the Dirichlet boundary stencil & source:\n",
        "\n",
        "$$∂_t T = α \\frac{T[i-1]+T[b]-2 T[i]}{Δz²} + S \\\\$$\n",
        "$$∂_t T = α \\frac{T[i-1]-2 T[i]}{Δz²} + S + α \\frac{T[b]}{Δz²}$$\n",
        "\n",
        "\n",
        "and Neumann boundary stencil & source:\n",
        "\n",
        "$$∇T_{bottom} n̂ = \\frac{T[g] - T[i]}{2Δz}, \\qquad    n̂ = [-1,1] ∈ [z_{min},z_{max}] \\\\$$\n",
        "$$T[i] + 2 Δz ∇T_{bottom} n̂ = T[g] \\\\$$\n",
        "$$∂_t T = α \\frac{\\frac{(T[i] + 2 Δz ∇T_{bottom} n̂) - T[b]}{Δz} - \\frac{T[b] - T[i]}{Δz}}{Δz} + S \\\\$$\n",
        "$$∂_t T = α \\frac{\\frac{T[i] - T[b]}{Δz} - \\frac{T[b] - T[i]}{Δz}}{Δz} + S + α 2 Δz \\frac{∇T_{bottom}}{Δz²} \\\\$$\n",
        "$$∂_t T = α \\frac{2 T[i] - 2 T[b]}{Δz²} + S + 2α \\frac{∇T_{bottom} n̂}{Δz}$$\n",
        "\n",
        "\n",
        "## Define the discrete diffusion operator"
      ]
    },
    {
      "cell_type": "code",
      "execution_count": null,
      "metadata": {},
      "outputs": [],
      "source": [
        "# Initialize interior and boundary stencils:\n",
        "∇² = Tridiagonal(\n",
        "    ones(FT, n) .* ∇²_op[1],\n",
        "    ones(FT, n+1)   .* ∇²_op[2],\n",
        "    ones(FT, n) .* ∇²_op[3]\n",
        ");\n",
        "\n",
        "# Modify boundary stencil to account for BCs\n",
        "\n",
        "∇².d[1] = -2/Δz²\n",
        "∇².du[1] = +2/Δz²\n",
        "\n",
        "# Modify boundary stencil to account for BCs\n",
        "∇².du[n] = 0  # modified stencil\n",
        "∇².d[n+1] = 0 # to ensure `∂_t T = 0` at `z=zmax`\n",
        "∇².dl[n] = 0  # to ensure `∂_t T = 0` at `z=zmax`\n",
        "D = α .* ∇²"
      ]
    },
    {
      "cell_type": "markdown",
      "metadata": {},
      "source": [
        "## Define boundary source\n",
        "Here, we'll compute the boundary source $$\\left(\\frac{α T[b]}{Δz²}\\right)$$"
      ]
    },
    {
      "cell_type": "code",
      "execution_count": null,
      "metadata": {},
      "outputs": [],
      "source": [
        "AT_b = zeros(FT, n+1);\n",
        "AT_b[1] = α*2/Δz*∇T_bottom*n̂_min;\n",
        "AT_b[end-1] = α*T_top/Δz²;"
      ]
    },
    {
      "cell_type": "markdown",
      "metadata": {},
      "source": [
        "## Set initial condition\n",
        "Let's just initialize the solution to `1`, and also set the top boundary condition:"
      ]
    },
    {
      "cell_type": "code",
      "execution_count": null,
      "metadata": {},
      "outputs": [],
      "source": [
        "T = zeros(FT, n+1);\n",
        "T .= 1;\n",
        "T[n+1] = T_top; # set top BC"
      ]
    },
    {
      "cell_type": "markdown",
      "metadata": {},
      "source": [
        "## Define right-hand side sources\n",
        "Here, we define the right-hand side (RHS) sources:"
      ]
    },
    {
      "cell_type": "code",
      "execution_count": null,
      "metadata": {},
      "outputs": [],
      "source": [
        "function rhs!(dT, T, params, t)\n",
        "    n = params.n\n",
        "    i = 1:n # interior domain\n",
        "    dT[i] .= S.(zf[i]) .+ AT_b[i]\n",
        "    return dT\n",
        "end;"
      ]
    },
    {
      "cell_type": "markdown",
      "metadata": {},
      "source": [
        "Next, we'll pacakge up parameters needed in the RHS function, define the ODE problem, and solve."
      ]
    },
    {
      "cell_type": "code",
      "execution_count": null,
      "metadata": {},
      "outputs": [],
      "source": [
        "params = (;n)\n",
        "\n",
        "tspan = (FT(0), N_t*FT(Δt))\n",
        "\n",
        "prob = SplitODEProblem(\n",
        "    SciMLBase.DiffEqArrayOperator(\n",
        "        D,\n",
        "    ),\n",
        "    rhs!,\n",
        "    T,\n",
        "    tspan,\n",
        "    params\n",
        ")\n",
        "alg = IMEXEuler(linsolve=LinSolveFactorize(lu!))\n",
        "println(\"Solving...\")\n",
        "sol = solve(\n",
        "    prob,\n",
        "    alg,\n",
        "    dt = Δt,\n",
        "    saveat = range(FT(0), N_t*FT(Δt), length=5),\n",
        "    progress = true,\n",
        "    progress_message = (dt, u, p, t) -> t,\n",
        ");"
      ]
    },
    {
      "cell_type": "markdown",
      "metadata": {},
      "source": [
        "# Visualizing results\n",
        "\n",
        "Now, let's visualize the results of the solution and error:"
      ]
    },
    {
      "cell_type": "code",
      "execution_count": null,
      "metadata": {},
      "outputs": [],
      "source": [
        "T_end = sol.u[end]\n",
        "\n",
        "p1 = Plots.plot(zf, T_analytic.(zf), label=\"analytic\", markershape=:circle, markersize=6)\n",
        "p1 = Plots.plot!(p1, zf, T_end, label=\"numerical\", markershape=:diamond)\n",
        "p1 = Plots.plot!(p1, title=\"T ∈ cell faces\")\n",
        "\n",
        "p2 = Plots.plot(zf, abs.(T_end .- T_analytic.(zf)), label=\"error\", markershape=:circle, markersize=6)\n",
        "p2 = Plots.plot!(p2, title=\"T ∈ cell faces\")\n",
        "\n",
        "Plots.plot(p1, p2)"
      ]
    }
  ],
  "metadata": {
    "kernelspec": {
      "display_name": "Julia 1.8.2",
      "language": "julia",
      "name": "julia-1.8"
    },
    "language_info": {
      "file_extension": ".jl",
      "mimetype": "application/julia",
      "name": "julia",
      "version": "1.8.2"
    }
  },
  "nbformat": 4,
  "nbformat_minor": 2
}
