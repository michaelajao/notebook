{
 "cells": [
  {
   "cell_type": "code",
   "execution_count": null,
   "metadata": {},
   "outputs": [],
   "source": [
    "using LightGraphs, Random, Distributions, Plots"
   ]
  },
  {
   "cell_type": "code",
   "execution_count": null,
   "metadata": {},
   "outputs": [],
   "source": [
    "Random.seed!(123)"
   ]
  },
  {
   "cell_type": "code",
   "execution_count": null,
   "metadata": {},
   "outputs": [],
   "source": [
    "num_nodes = 1000 # number of individuals in the population\n",
    "mean_degree = 10 # average number of social connections per individual\n",
    "transmission_rate = 0.1 # probability of infection transmission per contact\n",
    "infectious_period = 10 # duration of infectiousness in time steps\n"
   ]
  },
  {
   "cell_type": "code",
   "execution_count": null,
   "metadata": {},
   "outputs": [],
   "source": [
    "g = watts_strogatz(num_nodes, mean_degree, 0.1)"
   ]
  },
  {
   "cell_type": "code",
   "execution_count": null,
   "metadata": {},
   "outputs": [],
   "source": [
    "infected = rand(1:num_nodes)\n"
   ]
  },
  {
   "cell_type": "code",
   "execution_count": null,
   "metadata": {},
   "outputs": [],
   "source": [
    "susceptible = fill(true, num_nodes)\n",
    "infected_nodes = [infected]\n",
    "recovered_nodes = []\n"
   ]
  },
  {
   "cell_type": "code",
   "execution_count": null,
   "metadata": {},
   "outputs": [],
   "source": [
    "num_steps = 100\n",
    "\n",
    "for step in 1:num_steps\n",
    "    # Infect susceptible individuals who are in contact with infected individuals\n",
    "    for node in infected_nodes\n",
    "        neighbors = neighbors(g, node)\n",
    "        for neighbor in neighbors\n",
    "            if rand() < transmission_rate && susceptible[neighbor]\n",
    "                infected_nodes = union(infected_nodes, [neighbor])\n",
    "                susceptible[neighbor] = false\n",
    "            end\n",
    "        end\n",
    "    end\n",
    "\n",
    "    # Recover individuals who have been infectious for the duration of the infectious period\n",
    "    new_recovered_nodes = []\n",
    "    for node in infected_nodes\n",
    "        if step - node >= infectious_period\n",
    "            new_recovered_nodes = union(new_recovered_nodes, [node])\n",
    "            infected_nodes = setdiff(infected_nodes, new_recovered_nodes)\n",
    "            recovered_nodes = union(recovered_nodes, new_recovered_nodes)\n",
    "            susceptible[node] = false\n",
    "        end\n",
    "    end\n",
    "end\n"
   ]
  },
  {
   "cell_type": "code",
   "execution_count": null,
   "metadata": {},
   "outputs": [],
   "source": [
    "x = [rand() for i in 1:num_nodes]\n",
    "y = [rand() for i in 1:num_nodes]\n",
    "\n",
    "scatter(x[susceptible], y[susceptible], label=\"Susceptible\")\n",
    "scatter!(x[infected_nodes], y[infected_nodes], label=\"Infected\")\n",
    "scatter!(x[recovered_nodes], y[recovered_nodes], label=\"Recovered\")\n"
   ]
  },
  {
   "cell_type": "code",
   "execution_count": 1,
   "metadata": {},
   "outputs": [
    {
     "ename": "UndefVarError",
     "evalue": "UndefVarError: outedges not defined",
     "output_type": "error",
     "traceback": [
      "UndefVarError: outedges not defined\n",
      "\n",
      "Stacktrace:\n",
      " [1] (::var\"#neighbors#13\")(g::SimpleGraph{Int64}, node::Int64)\n",
      "   @ Main c:\\Users\\olarinoyem\\Documents\\GitHub\\covid-19-forcasting-experiments\\spatial network model\\notebook.ipynb:15\n",
      " [2] simulate_sir(num_nodes::Int64, mean_degree::Int64, transmission_rate::Float64, infectious_period::Int64, num_steps::Int64)\n",
      "   @ Main c:\\Users\\olarinoyem\\Documents\\GitHub\\covid-19-forcasting-experiments\\spatial network model\\notebook.ipynb:23\n",
      " [3] top-level scope\n",
      "   @ c:\\Users\\olarinoyem\\Documents\\GitHub\\covid-19-forcasting-experiments\\spatial network model\\notebook.ipynb:51"
     ]
    }
   ],
   "source": [
    "using LightGraphs, Random, Distributions, Plots\n",
    "\n",
    "Random.seed!(123)\n",
    "\n",
    "function simulate_sir(num_nodes::Int, mean_degree::Int, transmission_rate::Float64, infectious_period::Int, num_steps::Int)\n",
    "    g = watts_strogatz(num_nodes, mean_degree, 0.1)\n",
    "\n",
    "    infected = rand(1:num_nodes)\n",
    "\n",
    "    susceptible = fill(true, num_nodes)\n",
    "    infected_nodes = [infected]\n",
    "    recovered_nodes = []\n",
    "\n",
    "    function neighbors(g, node)\n",
    "        out_edges = outedges(g, node)\n",
    "        in_edges = inedges(g, node)\n",
    "        neighbors = union([e.dst for e in out_edges], [e.src for e in in_edges])\n",
    "        return neighbors\n",
    "    end\n",
    "\n",
    "    for step in 1:num_steps\n",
    "        for node in infected_nodes\n",
    "            neighbors = neighbors(g, node)\n",
    "            for neighbor in neighbors\n",
    "                if rand() < transmission_rate && susceptible[neighbor]\n",
    "                    infected_nodes = union(infected_nodes, [neighbor])\n",
    "                    susceptible[neighbor] = false\n",
    "                end\n",
    "            end\n",
    "        end\n",
    "\n",
    "        new_recovered_nodes = []\n",
    "        for node in infected_nodes\n",
    "            if step - node >= infectious_period\n",
    "                new_recovered_nodes = union(new_recovered_nodes, [node])\n",
    "                infected_nodes = setdiff(infected_nodes, new_recovered_nodes)\n",
    "                recovered_nodes = union(recovered_nodes, new_recovered_nodes)\n",
    "                susceptible[node] = false\n",
    "            end\n",
    "        end\n",
    "    end\n",
    "\n",
    "    x = [rand() for i in 1:num_nodes]\n",
    "    y = [rand() for i in 1:num_nodes]\n",
    "\n",
    "    scatter(x[susceptible], y[susceptible], label=\"Susceptible\")\n",
    "    scatter!(x[infected_nodes], y[infected_nodes], label=\"Infected\")\n",
    "    scatter!(x[recovered_nodes], y[recovered_nodes], label=\"Recovered\")\n",
    "end\n",
    "\n",
    "simulate_sir(1000, 10, 0.1, 10, 100)\n"
   ]
  },
  {
   "cell_type": "code",
   "execution_count": 3,
   "metadata": {},
   "outputs": [
    {
     "ename": "DimensionMismatch",
     "evalue": "DimensionMismatch: arrays could not be broadcast to a common size; got a dimension with lengths 289 and 5",
     "output_type": "error",
     "traceback": [
      "DimensionMismatch: arrays could not be broadcast to a common size; got a dimension with lengths 289 and 5\n",
      "\n",
      "Stacktrace:\n",
      " [1] _bcs1\n",
      "   @ .\\broadcast.jl:516 [inlined]\n",
      " [2] _bcs\n",
      "   @ .\\broadcast.jl:510 [inlined]\n",
      " [3] broadcast_shape\n",
      "   @ .\\broadcast.jl:504 [inlined]\n",
      " [4] combine_axes\n",
      "   @ .\\broadcast.jl:499 [inlined]\n",
      " [5] instantiate\n",
      "   @ .\\broadcast.jl:281 [inlined]\n",
      " [6] materialize(bc::Base.Broadcast.Broadcasted{Base.Broadcast.DefaultArrayStyle{1}, Nothing, typeof(in), Tuple{Vector{String}, Vector{String}}})\n",
      "   @ Base.Broadcast .\\broadcast.jl:860\n",
      " [7] top-level scope\n",
      "   @ c:\\Users\\olarinoyem\\Documents\\GitHub\\covid-19-forcasting-experiments\\spatial network model\\notebook.ipynb:6"
     ]
    }
   ],
   "source": [
    "using CSV, DataFrames, DifferentialEquations, Plots\n",
    "\n",
    "# Load the John Hopkins daily confirmed COVID-19 cases data\n",
    "df_cases = CSV.read(download(\"https://raw.githubusercontent.com/CSSEGISandData/COVID-19/master/csse_covid_19_data/csse_covid_19_time_series/time_series_covid19_confirmed_global.csv\"), DataFrame)\n",
    "countries = [\"United Kingdom\", \"Italy\", \"Spain\", \"Germany\", \"France\"] # Select a few countries\n",
    "df_cases = df_cases[df_cases[!, \"Country/Region\"] .∈ countries, :]\n",
    "df_cases = by(df_cases, \"Country/Region\", select=collect(5:size(df_cases, 2)) .=> sum)\n",
    "df_cases = stack(df_cases, names(df_cases, Not(:Country_Region)), variable_name=:date, value_name=:cases)\n",
    "df_cases.date = Date.(df_cases.date, \"m/d/y\")\n",
    "df_cases = filter(row -> row.cases > 0, df_cases)\n",
    "\n"
   ]
  },
  {
   "cell_type": "code",
   "execution_count": null,
   "metadata": {},
   "outputs": [],
   "source": [
    "# Define the SEIR model\n",
    "function seir!(du, u, p, t)\n",
    "    β, σ, γ, v = p\n",
    "    S, E, I, R, V = u\n",
    "    N = S + E + I + R\n",
    "    du[1] = -β*S*I/N\n",
    "    du[2] = β*S*I/N - σ*E\n",
    "    du[3] = σ*E - γ*I\n",
    "    du[4] = γ*I\n",
    "    du[5] = v\n",
    "end\n",
    "\n",
    "# Set the initial conditions and parameters\n",
    "S0 = 6.7e7 # Population of the UK\n",
    "E0 = 1.0\n",
    "I0 = 1.0\n",
    "R0 = 0.0\n",
    "V0 = 0.0\n",
    "u0 = [S0, E0, I0, R0, V0]\n",
    "β = 0.3 # Infection rate\n",
    "σ = 0.1 # Incubation rate\n",
    "γ = 0.05 # Recovery rate\n",
    "v = 0.0 # Vaccination rate\n",
    "p = [β, σ, γ, v]\n",
    "\n",
    "# Set the time span and solve the SEIR model using DifferentialEquations.jl\n",
    "tspan = (minimum(df_cases.date), maximum(df_cases.date) + Day(30))\n",
    "prob = ODEProblem(seir!, u0, tspan, p)\n",
    "sol = DifferentialEquations.solve(prob, Tsit5())\n",
    "\n",
    "# Compute the daily confirmed cases from the SEIR model\n",
    "cases_seir = S0 .- sol[!, 1] .- sol[!, 2] .- sol[!, 3] .- sol[!, 4]\n",
    "\n",
    "# Plot the results\n",
    "plot(df_cases.date, df_cases.cases, label=\"Confirmed cases (data)\")\n",
    "plot!(sol.t, cases_seir, label=\"Confirmed cases (SEIR model)\", xlabel=\"Date\", ylabel=\"Number of cases\", legend=:topright)\n"
   ]
  }
 ],
 "metadata": {
  "kernelspec": {
   "display_name": "Julia 1.8.5",
   "language": "julia",
   "name": "julia-1.8"
  },
  "language_info": {
   "file_extension": ".jl",
   "mimetype": "application/julia",
   "name": "julia",
   "version": "1.8.5"
  },
  "orig_nbformat": 4
 },
 "nbformat": 4,
 "nbformat_minor": 2
}
