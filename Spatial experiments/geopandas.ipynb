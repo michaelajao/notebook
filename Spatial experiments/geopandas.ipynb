{
 "cells": [
  {
   "cell_type": "code",
   "execution_count": null,
   "metadata": {},
   "outputs": [],
   "source": []
  }
 ],
 "metadata": {
  "kernelspec": {
   "display_name": "pymc_env",
   "language": "python",
   "name": "python3"
  },
  "language_info": {
   "name": "python",
   "version": "3.10.6 | packaged by conda-forge | (main, Aug 22 2022, 20:29:51) [MSC v.1929 64 bit (AMD64)]"
  },
  "orig_nbformat": 4,
  "vscode": {
   "interpreter": {
    "hash": "0aaac89ec34c48a2f1a6d2e7bec657a0cd78c2200e1cf4c49509e7a48f3fe2b8"
   }
  }
 },
 "nbformat": 4,
 "nbformat_minor": 2
}
